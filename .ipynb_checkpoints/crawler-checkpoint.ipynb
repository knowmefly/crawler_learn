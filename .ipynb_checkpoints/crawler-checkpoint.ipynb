{
 "cells": [
  {
   "cell_type": "code",
   "execution_count": 62,
   "metadata": {},
   "outputs": [
    {
     "name": "stdout",
     "output_type": "stream",
     "text": [
      "send: b'GET /s?wd=%E4%B8%AD%E5%9B%BD HTTP/1.1\\r\\nAccept-Encoding: identity\\r\\nHost: www.baidu.com\\r\\nConnection: close\\r\\nUser-Agent: Python-urllib/3.5\\r\\n\\r\\n'\n",
      "reply: 'HTTP/1.1 200 OK\\r\\n'\n",
      "header: Bdpagetype header: Bdqid header: Cache-Control header: Content-Type header: Cxy_all header: Cxy_ex header: Date header: P3p header: Server header: Set-Cookie header: Set-Cookie header: Set-Cookie header: Set-Cookie header: Set-Cookie header: Set-Cookie header: Set-Cookie header: Set-Cookie header: Vary header: X-Ua-Compatible header: Connection header: Transfer-Encoding "
     ]
    }
   ],
   "source": [
    "import urllib.request\n",
    "keywd = \"中国\"\n",
    "url = \"http://www.baidu.com/s?wd=\" \n",
    "key_code = urllib.request.quote(keywd)\n",
    "url = url + key_code\n",
    "req = urllib.request.Request(url)\n",
    "data= urllib.request.urlopen(req).read()\n",
    "fhandle = open(\"myweb/1.html\", \"wb\")\n",
    "fhandle.write(data)\n",
    "fhandle.close()\n"
   ]
  },
  {
   "cell_type": "code",
   "execution_count": 24,
   "metadata": {},
   "outputs": [],
   "source": [
    "import urllib.request\n",
    "import urllib.parse\n",
    "url = \"http://www.iqianyue.com/mypost\"\n",
    "postdata = urllib.parse.urlencode({\"name\":\"123\", \"pass\":\"324\"}).encode('utf-8')\n",
    "req = urllib.request.Request(url,postdata)\n",
    "req.add_header('User-Agent','Mozilla/5.0 (X11; Linux x86_64) AppleWebKit/537.36 (KHTML, like Gecko) Ubuntu Chromium/68.0.3440.106 Chrome/68.0.3440.106 Safari/537.36')\n",
    "data = urllib.request.urlopen(req).read()\n",
    "fhandle = open(\"myweb/2.html\", \"wb\")\n",
    "fhandle.write(data)\n",
    "fhandle.close()"
   ]
  },
  {
   "cell_type": "code",
   "execution_count": 5,
   "metadata": {},
   "outputs": [
    {
     "name": "stdout",
     "output_type": "stream",
     "text": [
      "117804\n"
     ]
    }
   ],
   "source": [
    "def use_proxy(proxy_addr,url):\n",
    "    import urllib.request\n",
    "    proxy = urllib.request.ProxyHandler({'http':proxy_addr})\n",
    "    opener = urllib.request.build_opener(proxy, urllib.request.HTTPHandler)\n",
    "    urllib.request.install_opener(opener)\n",
    "    data = urllib.request.urlopen(url).read().decode('utf-8')\n",
    "    return data\n",
    "\n",
    "proxy_addr = \"116.62.194.248:3128\"\n",
    "data = use_proxy(proxy_addr, \"http://www.baidu.com\")\n",
    "print(len(data))"
   ]
  },
  {
   "cell_type": "code",
   "execution_count": 6,
   "metadata": {},
   "outputs": [
    {
     "name": "stdout",
     "output_type": "stream",
     "text": [
      "send: b'GET / HTTP/1.1\\r\\nAccept-Encoding: identity\\r\\nHost: blog.csdn.net\\r\\nConnection: close\\r\\nUser-Agent: Python-urllib/3.5\\r\\n\\r\\n'\n",
      "reply: 'HTTP/1.1 200 OK\\r\\n'\n",
      "header: Server header: Date header: Content-Type header: Transfer-Encoding header: Connection header: Vary header: Set-Cookie header: Set-Cookie header: Vary header: Set-Cookie header: Strict-Transport-Security "
     ]
    }
   ],
   "source": [
    "import urllib.request\n",
    "httphd = urllib.request.HTTPHandler(debuglevel = 1)\n",
    "httpshd = urllib.request.HTTPSHandler(debuglevel = 1)\n",
    "opener = urllib.request.build_opener(httphd, httpshd)\n",
    "urllib.request.install_opener(opener)\n",
    "data = urllib.request.urlopen(\"https://blog.csdn.net\")"
   ]
  },
  {
   "cell_type": "code",
   "execution_count": 20,
   "metadata": {},
   "outputs": [
    {
     "name": "stdout",
     "output_type": "stream",
     "text": [
      "send: b'GET /u012373815/article/details/79221 HTTP/1.1\\r\\nAccept-Encoding: identity\\r\\nHost: blog.csdn.net\\r\\nConnection: close\\r\\nUser-Agent: Python-urllib/3.5\\r\\n\\r\\n'\n",
      "reply: 'HTTP/1.1 404 Not Found\\r\\n'\n",
      "header: Server header: Date header: Content-Type header: Content-Length header: Connection header: Vary header: Set-Cookie header: Set-Cookie header: ETag 404\n",
      "Not Found\n"
     ]
    }
   ],
   "source": [
    "import urllib.request as request\n",
    "import urllib.error as error\n",
    "try:\n",
    "    request.urlopen(\"https://blog.csdn.net/u012373815/article/details/79221\")\n",
    "except error.URLError as e:\n",
    "    print(e.code)\n",
    "    print(e.reason)\n"
   ]
  },
  {
   "cell_type": "code",
   "execution_count": 27,
   "metadata": {},
   "outputs": [
    {
     "name": "stdout",
     "output_type": "stream",
     "text": [
      "[Errno 110] Connection timed out\n"
     ]
    }
   ],
   "source": [
    "import urllib.request as request\n",
    "import urllib.error as error\n",
    "try:\n",
    "    request.urlopen(\"http://10.1.5.214/\")\n",
    "except error.URLError as e:\n",
    "    if hasattr(e,\"code\"):\n",
    "        print(e.code)\n",
    "    if hasattr(e,\"reason\"):\n",
    "        print(e.reason)"
   ]
  },
  {
   "cell_type": "code",
   "execution_count": 37,
   "metadata": {},
   "outputs": [
    {
     "name": "stdout",
     "output_type": "stream",
     "text": [
      "<_sre.SRE_Match object; span=(3, 6), match='aaa'>\n",
      "None\n",
      "<_sre.SRE_Match object; span=(7, 12), match='2@qq.'>\n"
     ]
    }
   ],
   "source": [
    "import re\n",
    "pattern = \"aaa\"\n",
    "string = \"bbbaaaccc\"\n",
    "result1= re.search(pattern, string)\n",
    "print(result1)\n",
    "pattern = \"\\n\"\n",
    "string = '''abdjas'''\n",
    "result2 = re.search(pattern,string)\n",
    "print(result2)\n",
    "pattern = \"\\d\\Wqq\\W\"\n",
    "string = '''abdjas12@qq.dasdsadsa'''\n",
    "result3 = re.search(pattern,string)\n",
    "print(result3)"
   ]
  },
  {
   "cell_type": "code",
   "execution_count": null,
   "metadata": {},
   "outputs": [],
   "source": [
    "import re\n",
    "re.match()     #起始位置匹配\n",
    "re.search()    #全局检索\n",
    "re.compile() #全局匹配\n",
    "re.sub()          #替换(默认所有)\n",
    "\n",
    "pattern = \"[a-zA-Z]+://[^\\s]*[.com|.cn]\"  #网址匹配原子\n",
    "pattern = \"\\w+([.+-]\\w+)*@\\w+([.-]\\w+)*.\\w+([.-]\\w+)*\" #邮箱匹配原子"
   ]
  },
  {
   "cell_type": "code",
   "execution_count": 1,
   "metadata": {},
   "outputs": [
    {
     "name": "stdout",
     "output_type": "stream",
     "text": [
      "200\n"
     ]
    }
   ],
   "source": [
    "import urllib.request as request\n",
    "import urllib.parse as parse\n",
    "import urllib.error as error\n",
    "import http.cookiejar as cookiejar\n",
    "\n",
    "url = \"http://123.207.156.248/wp-login.php\"\n",
    "postdata = parse.urlencode({\n",
    "    \"log\":\"1351393068@qq.com\",\n",
    "    \"pwd\":\"1998.624.dzf\"\n",
    "}).encode('utf-8')\n",
    "req = request.Request(url,postdata)\n",
    "req.add_header('User-Agent','Mozilla/5.0 (X11; Linux x86_64) AppleWebKit/537.36 (KHTML, like Gecko) Ubuntu Chromium/68.0.3440.106 Chrome/68.0.3440.106 Safari/537.36')\n",
    "cjar = cookiejar.CookieJar()\n",
    "opener = request.build_opener(request.HTTPCookieProcessor(cjar))\n",
    "request.install_opener(opener)\n",
    "status = opener.open(req).status\n",
    "data = opener.open(req).read()\n",
    "print(status)\n",
    "fhandle = open(\"myweb/3.html\",\"wb\")\n",
    "fhandle.write(data)\n",
    "fhandle.close()\n",
    "url2 = \"http://123.207.156.248/wp-admin/edit.php?post_type=post\"\n",
    "data2 = request.urlopen(url2).read()\n",
    "fhandle = open(\"myweb/4.html\",\"wb\")\n",
    "fhandle.write(data2)\n",
    "fhandle.close()"
   ]
  },
  {
   "cell_type": "code",
   "execution_count": null,
   "metadata": {},
   "outputs": [],
   "source": []
  },
  {
   "cell_type": "code",
   "execution_count": null,
   "metadata": {},
   "outputs": [],
   "source": []
  }
 ],
 "metadata": {
  "kernelspec": {
   "display_name": "Python 3",
   "language": "python",
   "name": "python3"
  },
  "language_info": {
   "codemirror_mode": {
    "name": "ipython",
    "version": 3
   },
   "file_extension": ".py",
   "mimetype": "text/x-python",
   "name": "python",
   "nbconvert_exporter": "python",
   "pygments_lexer": "ipython3",
   "version": "3.5.2"
  }
 },
 "nbformat": 4,
 "nbformat_minor": 2
}
